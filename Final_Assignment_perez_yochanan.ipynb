# Should be the Jupyter Notebook for this peer reviewed assignment that compares Tesla and GameStop stocks.
print("See other uploaded file.")
